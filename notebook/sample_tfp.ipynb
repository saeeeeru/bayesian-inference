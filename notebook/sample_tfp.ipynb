{
 "cells": [
  {
   "cell_type": "markdown",
   "metadata": {},
   "source": [
    "table of contents\n",
    "1. Prepare\n",
    "2. Data Import, Encoding\n",
    "3. EDA\n",
    "4. Model Definition\n",
    "5. Sampling\n",
    "6. Visualization"
   ]
  },
  {
   "cell_type": "markdown",
   "metadata": {},
   "source": [
    "# Prepare"
   ]
  },
  {
   "cell_type": "markdown",
   "metadata": {},
   "source": [
    "## Import Library"
   ]
  },
  {
   "cell_type": "code",
   "execution_count": 1,
   "metadata": {
    "ExecuteTime": {
     "end_time": "2019-10-13T07:50:54.625536Z",
     "start_time": "2019-10-13T07:50:53.705384Z"
    }
   },
   "outputs": [
    {
     "name": "stdout",
     "output_type": "stream",
     "text": [
      "Using matplotlib backend: MacOSX\n"
     ]
    }
   ],
   "source": [
    "import os, random, time\n",
    "\n",
    "import numpy as np\n",
    "import pandas as pd\n",
    "import matplotlib.pyplot as plt\n",
    "\n",
    "%matplotlib\n",
    "\n",
    "import tensorflow as tf\n",
    "import tensorflow_probability as tfp\n",
    "\n",
    "tfd = tfp.distributions\n",
    "\n",
    "cmap = plt.get_cmap('tab10')"
   ]
  },
  {
   "cell_type": "markdown",
   "metadata": {},
   "source": [
    "## Change matplotlib setting"
   ]
  },
  {
   "cell_type": "code",
   "execution_count": 9,
   "metadata": {
    "ExecuteTime": {
     "end_time": "2019-10-13T08:15:48.190204Z",
     "start_time": "2019-10-13T08:15:48.184534Z"
    }
   },
   "outputs": [],
   "source": [
    "import matplotlib as mpl\n",
    "\n",
    "mode = 'go_ando'\n",
    "\n",
    "if mode == 'go_ando':\n",
    "    # go ando mode\n",
    "    mpl.rcParams['xtick.color'] = mpl.rcParams['ytick.color'] = mpl.rcParams['axes.labelcolor'] =  'darkgrey'\n",
    "    mpl.rcParams['grid.color'] = mpl.rcParams['axes.edgecolor'] = mpl.rcParams['text.color']  = 'darkgrey'\n",
    "    mpl.rcParams['axes.spines.top'] = mpl.rcParams['axes.spines.right'] = False\n",
    "    mpl.rcParams['axes.grid.axis'] = 'y'\n",
    "    mpl.rcParams['axes.grid'] = True\n",
    "    mpl.rcParams['axes.facecolor'] = mpl.rcParams['figure.facecolor'] = 'white'\n",
    "elif mode == 'twitter':\n",
    "    # twitter mode\n",
    "    mpl.rcParams['xtick.color'] = mpl.rcParams['ytick.color'] = mpl.rcParams['axes.labelcolor'] =  'white'\n",
    "    mpl.rcParams['grid.color'] = mpl.rcParams['axes.edgecolor'] = mpl.rcParams['text.color']  = 'white'\n",
    "    mpl.rcParams['axes.spines.top'] = mpl.rcParams['axes.spines.right'] = False\n",
    "    mpl.rcParams['axes.grid.axis'] = 'y'\n",
    "    twitter_color = '#141d26'\n",
    "    mpl.rcParams['axes.facecolor'] = mpl.rcParams['figure.facecolor'] = twitter_color\n",
    "    \n",
    "else:\n",
    "    pass"
   ]
  },
  {
   "cell_type": "markdown",
   "metadata": {},
   "source": [
    "# Data Import, Encoding"
   ]
  },
  {
   "cell_type": "markdown",
   "metadata": {},
   "source": [
    "$$ y = 5x - 3 + \\sigma \\\\\n",
    "\\sigma \\sim N(0, 2) $$"
   ]
  },
  {
   "cell_type": "code",
   "execution_count": 3,
   "metadata": {},
   "outputs": [],
   "source": [
    "def toy_data(N=30):\n",
    "    x = np.random.uniform(0, 5, N)\n",
    "    y = 5 * x -3 + np.random.normal(0, 2, N)\n",
    "    return x, y\n",
    "\n",
    "x_array, y_array = toy_data()"
   ]
  },
  {
   "cell_type": "markdown",
   "metadata": {},
   "source": [
    "# EDA"
   ]
  },
  {
   "cell_type": "code",
   "execution_count": 10,
   "metadata": {},
   "outputs": [
    {
     "data": {
      "text/plain": [
       "Text(0,0.5,'y')"
      ]
     },
     "execution_count": 10,
     "metadata": {},
     "output_type": "execute_result"
    },
    {
     "data": {
      "image/png": "[encoded data removed]",
      "text/plain": [
       "<Figure size 432x288 with 1 Axes>"
      ]
     },
     "metadata": {},
     "output_type": "display_data"
    }
   ],
   "source": [
    "plt.plot(x_array, y_array, 'o')\n",
    "plt.xlabel('x'); plt.ylabel('y')"
   ]
  },
  {
   "cell_type": "markdown",
   "metadata": {},
   "source": [
    "# Model Definition"
   ]
  },
  {
   "cell_type": "markdown",
   "metadata": {},
   "source": [
    "$$\n",
    "a \\sim N(0, 10)  \\\\\n",
    "b \\sim N(0, 10) \\\\\n",
    "y \\sim N(ax + b, 2)\n",
    "$$"
   ]
  },
  {
   "cell_type": "markdown",
   "metadata": {},
   "source": [
    "## Global Variable"
   ]
  },
  {
   "cell_type": "code",
   "execution_count": 37,
   "metadata": {},
   "outputs": [],
   "source": [
    "x = tf.convert_to_tensor(\n",
    "    x_array,\n",
    "    dtype=tf.float32\n",
    ")\n",
    "\n",
    "y = tf.convert_to_tensor(\n",
    "    y_array,\n",
    "    dtype=tf.float32\n",
    ")"
   ]
  },
  {
   "cell_type": "markdown",
   "metadata": {},
   "source": [
    "## Model"
   ]
  },
  {
   "cell_type": "markdown",
   "metadata": {},
   "source": [
    "$$ p(y,a,b | x) = p(y | a,b,x)p(a)p(b) $$"
   ]
  },
  {
   "cell_type": "code",
   "execution_count": 38,
   "metadata": {},
   "outputs": [],
   "source": [
    "Root = tfd.JointDistributionCoroutine.Root  # prior distribution\n",
    "\n",
    "def model():\n",
    "    a = yield Root(tfd.Normal(loc=0, scale=10.))\n",
    "    b = yield Root(tfd.Normal(loc=0, scale=10.))\n",
    "    y = yield tfd.Normal(loc=a * x + b, scale=tf.constant(2.0))"
   ]
  },
  {
   "cell_type": "markdown",
   "metadata": {},
   "source": [
    "## Joint Distribution"
   ]
  },
  {
   "cell_type": "code",
   "execution_count": 39,
   "metadata": {},
   "outputs": [],
   "source": [
    "joint = tfd.JointDistributionCoroutine(model)"
   ]
  },
  {
   "cell_type": "markdown",
   "metadata": {},
   "source": [
    "# Sampling"
   ]
  },
  {
   "cell_type": "markdown",
   "metadata": {},
   "source": [
    "## Sample from Generative Model before training"
   ]
  },
  {
   "cell_type": "code",
   "execution_count": 40,
   "metadata": {},
   "outputs": [
    {
     "data": {
      "text/plain": [
       "[<matplotlib.lines.Line2D at 0x63c5cde48>]"
      ]
     },
     "execution_count": 40,
     "metadata": {},
     "output_type": "execute_result"
    },
    {
     "data": {
      "image/png": "[encoded data removed]",
      "text/plain": [
       "<Figure size 432x288 with 1 Axes>"
      ]
     },
     "metadata": {},
     "output_type": "display_data"
    }
   ],
   "source": [
    "plt.plot(x.numpy(), joint.sample()[-1].numpy(), 'o')"
   ]
  },
  {
   "cell_type": "markdown",
   "metadata": {},
   "source": [
    "## Compute Log Joint Probability"
   ]
  },
  {
   "cell_type": "code",
   "execution_count": 41,
   "metadata": {},
   "outputs": [
    {
     "data": {
      "text/plain": [
       "-257.56677"
      ]
     },
     "execution_count": 41,
     "metadata": {},
     "output_type": "execute_result"
    }
   ],
   "source": [
    "joint.log_prob(joint.sample()).numpy().sum()"
   ]
  },
  {
   "cell_type": "markdown",
   "metadata": {},
   "source": [
    "## Posterior Distribution"
   ]
  },
  {
   "cell_type": "code",
   "execution_count": 42,
   "metadata": {},
   "outputs": [],
   "source": [
    "def unnormalized_log_posterior(a, b):\n",
    "    return tf.reduce_mean(joint.log_prob([a, b, y]))"
   ]
  },
  {
   "cell_type": "markdown",
   "metadata": {},
   "source": [
    "## run MCMC"
   ]
  },
  {
   "cell_type": "code",
   "execution_count": 57,
   "metadata": {},
   "outputs": [],
   "source": [
    "kernel = tfp.mcmc.HamiltonianMonteCarlo(\n",
    "    target_log_prob_fn=unnormalized_log_posterior,\n",
    "    step_size=0.1,\n",
    "    num_leapfrog_steps=2\n",
    ")"
   ]
  },
  {
   "cell_type": "code",
   "execution_count": 58,
   "metadata": {},
   "outputs": [],
   "source": [
    "@tf.function()\n",
    "def run_chain():\n",
    "    init_state = list(joint.sample()[:-1])\n",
    "    chains_states, kernels_results = tfp.mcmc.sample_chain(\n",
    "        num_results=1000,\n",
    "        num_burnin_steps=100,\n",
    "        current_state=init_state,\n",
    "        kernel=kernel\n",
    "    )\n",
    "    \n",
    "    return chains_states, kernels_results"
   ]
  },
  {
   "cell_type": "code",
   "execution_count": 59,
   "metadata": {},
   "outputs": [
    {
     "name": "stderr",
     "output_type": "stream",
     "text": [
      "/Users/saeru/.pyenv/versions/anaconda3-5.3.0/envs/py36/lib/python3.6/site-packages/tensorflow_probability/python/mcmc/sample.py:336: UserWarning: Tracing all kernel results by default is deprecated. Set the `trace_fn` argument to None (the future default value) or an explicit callback that traces the values you are interested in.\n",
      "  warnings.warn(\"Tracing all kernel results by default is deprecated. Set \"\n"
     ]
    }
   ],
   "source": [
    "chain_states, kernel_results = run_chain()"
   ]
  },
  {
   "cell_type": "markdown",
   "metadata": {},
   "source": [
    "# Visualization"
   ]
  },
  {
   "cell_type": "markdown",
   "metadata": {},
   "source": [
    "## sampling result"
   ]
  },
  {
   "cell_type": "code",
   "execution_count": 60,
   "metadata": {},
   "outputs": [],
   "source": [
    "a, b = chain_states"
   ]
  },
  {
   "cell_type": "code",
   "execution_count": 61,
   "metadata": {},
   "outputs": [
    {
     "data": {
      "text/plain": [
       "(array([ 21., 102., 175., 218., 150., 113., 111.,  60.,  41.,   9.]),\n",
       " array([3.0867774, 3.526187 , 3.9655962, 4.4050055, 4.8444147, 5.2838244,\n",
       "        5.7232337, 6.162643 , 6.6020527, 7.041462 , 7.480871 ],\n",
       "       dtype=float32),\n",
       " <a list of 10 Patch objects>)"
      ]
     },
     "execution_count": 61,
     "metadata": {},
     "output_type": "execute_result"
    },
    {
     "data": {
      "image/png": "[encoded data removed]",
      "text/plain": [
       "<Figure size 432x288 with 1 Axes>"
      ]
     },
     "metadata": {},
     "output_type": "display_data"
    }
   ],
   "source": [
    "plt.hist(a)"
   ]
  },
  {
   "cell_type": "code",
   "execution_count": 62,
   "metadata": {},
   "outputs": [
    {
     "data": {
      "text/plain": [
       "(array([ 24.,  53., 101.,  99.,  60., 181., 218., 146.,  85.,  33.]),\n",
       " array([-8.986155  , -8.037375  , -7.088597  , -6.139818  , -5.1910396 ,\n",
       "        -4.2422605 , -3.2934818 , -2.344703  , -1.3959242 , -0.44714543,\n",
       "         0.50163335], dtype=float32),\n",
       " <a list of 10 Patch objects>)"
      ]
     },
     "execution_count": 62,
     "metadata": {},
     "output_type": "execute_result"
    },
    {
     "data": {
      "image/png": "[encoded data removed]",
      "text/plain": [
       "<Figure size 432x288 with 1 Axes>"
      ]
     },
     "metadata": {},
     "output_type": "display_data"
    }
   ],
   "source": [
    "plt.hist(b)"
   ]
  },
  {
   "cell_type": "markdown",
   "metadata": {},
   "source": [
    "## MAP Estimation"
   ]
  },
  {
   "cell_type": "code",
   "execution_count": 63,
   "metadata": {},
   "outputs": [
    {
     "data": {
      "text/plain": [
       "[<matplotlib.lines.Line2D at 0x64002a1d0>]"
      ]
     },
     "execution_count": 63,
     "metadata": {},
     "output_type": "execute_result"
    },
    {
     "data": {
      "image/png": "[encoded data removed]",
      "text/plain": [
       "<Figure size 432x288 with 1 Axes>"
      ]
     },
     "metadata": {},
     "output_type": "display_data"
    }
   ],
   "source": [
    "a_mean = tf.reduce_mean(a)\n",
    "b_mean = tf.reduce_mean(b)\n",
    "\n",
    "x_new = tf.convert_to_tensor(np.linspace(0, 5, 100), dtype=tf.float32)\n",
    "\n",
    "y_new = a_mean * x_new + b_mean\n",
    "\n",
    "plt.plot(x_new, y_new, color=cmap(1))\n",
    "plt.plot(x, y, 'o')"
   ]
  },
  {
   "cell_type": "markdown",
   "metadata": {},
   "source": [
    "## Bayesian Prediction Distribution"
   ]
  },
  {
   "cell_type": "code",
   "execution_count": 65,
   "metadata": {},
   "outputs": [
    {
     "data": {
      "text/plain": [
       "TensorShape([100, 1000])"
      ]
     },
     "execution_count": 65,
     "metadata": {},
     "output_type": "execute_result"
    }
   ],
   "source": [
    "samples.shape"
   ]
  },
  {
   "cell_type": "code",
   "execution_count": 66,
   "metadata": {},
   "outputs": [
    {
     "data": {
      "text/plain": [
       "<matplotlib.legend.Legend at 0x63f94d2e8>"
      ]
     },
     "execution_count": 66,
     "metadata": {},
     "output_type": "execute_result"
    },
    {
     "data": {
      "image/png": "[encoded data removed]",
      "text/plain": [
       "<Figure size 432x288 with 1 Axes>"
      ]
     },
     "metadata": {},
     "output_type": "display_data"
    }
   ],
   "source": [
    "def statistical_model(a, b):\n",
    "    return tf.expand_dims(a, axis=0) * tf.expand_dims(x_new, axis=1) + tf.expand_dims(b, axis=0)\n",
    "\n",
    "samples = statistical_model(a, b)\n",
    "\n",
    "y_expected = tf.reduce_mean(samples, axis=1)\n",
    "\n",
    "plt.plot(x_new, y_expected, color=cmap(1), label='predict')\n",
    "plt.plot(x_new, samples, color=cmap(1), alpha=0.003)\n",
    "plt.plot(x, y, 'o', label='actual')\n",
    "plt.legend()"
   ]
  }
 ],
 "metadata": {
  "kernelspec": {
   "display_name": "Python 3",
   "language": "python",
   "name": "python3"
  },
  "language_info": {
   "codemirror_mode": {
    "name": "ipython",
    "version": 3
   },
   "file_extension": ".py",
   "mimetype": "text/x-python",
   "name": "python",
   "nbconvert_exporter": "python",
   "pygments_lexer": "ipython3",
   "version": "3.6.0"
  },
  "toc": {
   "base_numbering": 1,
   "nav_menu": {},
   "number_sections": true,
   "sideBar": true,
   "skip_h1_title": false,
   "title_cell": "Table of Contents",
   "title_sidebar": "Contents",
   "toc_cell": false,
   "toc_position": {},
   "toc_section_display": true,
   "toc_window_display": false
  },
  "toc-autonumbering": true,
  "varInspector": {
   "cols": {
    "lenName": 16,
    "lenType": 16,
    "lenVar": 40
   },
   "kernels_config": {
    "python": {
     "delete_cmd_postfix": "",
     "delete_cmd_prefix": "del ",
     "library": "var_list.py",
     "varRefreshCmd": "print(var_dic_list())"
    },
    "r": {
     "delete_cmd_postfix": ") ",
     "delete_cmd_prefix": "rm(",
     "library": "var_list.r",
     "varRefreshCmd": "cat(var_dic_list()) "
    }
   },
   "types_to_exclude": [
    "module",
    "function",
    "builtin_function_or_method",
    "instance",
    "_Feature"
   ],
   "window_display": false
  }
 },
 "nbformat": 4,
 "nbformat_minor": 4
}
